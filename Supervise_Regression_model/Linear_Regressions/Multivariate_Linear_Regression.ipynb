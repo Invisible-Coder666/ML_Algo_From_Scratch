{
 "cells": [
  {
   "cell_type": "markdown",
   "metadata": {},
   "source": [
    "## In Multivariate linear regression we have only one dependent\n",
    "## and n numbers of independent variable\n",
    "## Equation of line/plane/hyperplane is given by :Y=W^T.X +b "
   ]
  },
  {
   "cell_type": "markdown",
   "metadata": {},
   "source": [
    "X is a matrix which has different independent variables\n",
    "X = [\n",
    "        [x1i,x2i,x3i],\n",
    "        [x1i,x2i,x3i],\n",
    "        [x1i,x2i,x3i],\n",
    "        [x1i,x2i,x3i],\n",
    "        [x1i,x2i,x3i],\n",
    "        [x1i,x2i,x3i]\n",
    "    ]\n",
    " since we have 3 features so there will be w1,w2,w3\n",
    " and w0 as y intercept\n",
    " W is slope vector"
   ]
  },
  {
   "cell_type": "code",
   "execution_count": 2,
   "metadata": {},
   "outputs": [],
   "source": [
    "import numpy as np\n",
    "import pandas as pd\n",
    "import matplotlib.pyplot as plt"
   ]
  },
  {
   "cell_type": "code",
   "execution_count": 540,
   "metadata": {},
   "outputs": [],
   "source": [
    "class MultipleLR:\n",
    "    def __init__(self,max_iter=900000,learning_rate=.0001):\n",
    "        self.max_iter = max_iter\n",
    "        self.learning_rate = learning_rate\n",
    "        \n",
    "    def initialize_slope_intercept(self,n_features):\n",
    "        limit= 1/np.sqrt(n_features)\n",
    "        self.W = np.random.uniform(-limit, limit, n_features)\n",
    "#         self.W =np.zeros(n_features)\n",
    "    def fit(self,X,Y):\n",
    "        self.X = X\n",
    "        self.Y = Y\n",
    "        #add constant to X\n",
    "        self.X = np.insert(self.X,0,1,axis=1) \n",
    "        n_samples,n_features=self.X.shape\n",
    "        self.initialize_slope_intercept(n_features)\n",
    "        for _ in range(self.max_iter):\n",
    "            y_predict = self.X.dot(self.W)\n",
    "            grad_w = (-2/n_samples)*(self.Y - y_predict).dot(self.X)\n",
    "            self.W -= self.learning_rate*(grad_w)\n",
    "        return self.W"
   ]
  },
  {
   "cell_type": "code",
   "execution_count": null,
   "metadata": {},
   "outputs": [],
   "source": []
  }
 ],
 "metadata": {
  "kernelspec": {
   "display_name": "Python 3",
   "language": "python",
   "name": "python3"
  },
  "language_info": {
   "codemirror_mode": {
    "name": "ipython",
    "version": 3
   },
   "file_extension": ".py",
   "mimetype": "text/x-python",
   "name": "python",
   "nbconvert_exporter": "python",
   "pygments_lexer": "ipython3",
   "version": "3.8.5"
  }
 },
 "nbformat": 4,
 "nbformat_minor": 4
}
