{
 "cells": [
  {
   "cell_type": "markdown",
   "metadata": {},
   "source": [
    "## It is a L2 Based Regularization technique in which regularization term is the sum of square of all feature weights + alpha"
   ]
  },
  {
   "cell_type": "markdown",
   "metadata": {},
   "source": [
    "### It shrinks the parameters, therefore it is mostly used to prevent multicollinearity.\n",
    "### It reduces the model complexity by coefficient shrinkage, but it does not make coefficient to zero\n"
   ]
  },
  {
   "cell_type": "code",
   "execution_count": 5,
   "metadata": {},
   "outputs": [],
   "source": [
    "import numpy as np\n",
    "import pandas as pd\n",
    "import matplotlib.pyplot as plt\n",
    "from sklearn.model_selection import train_test_split"
   ]
  },
  {
   "cell_type": "code",
   "execution_count": 686,
   "metadata": {},
   "outputs": [],
   "source": [
    "class l2_regularization:\n",
    "    def __init__(self,alpha):\n",
    "        self.alpha = alpha\n",
    "    def __call__(self,w):\n",
    "        return self.alpha * (w.T.dot(w))\n",
    "    def grad(self,w):\n",
    "#         identity_with_alpha = self.alpha*np.eye(len(w))\n",
    "#         return w.dot(identity_with_alpha)\n",
    "        return self.alpha * w"
   ]
  },
  {
   "cell_type": "code",
   "execution_count": 45,
   "metadata": {},
   "outputs": [],
   "source": [
    "class RidgeRegression:\n",
    "    def __init__(self,alpha=.001,learning_rate=.000001,max_iter=10000):\n",
    "        self.alpha = alpha\n",
    "        self.max_iter = max_iter\n",
    "        self.learning_rate =learning_rate\n",
    "        # object of l2 regularization\n",
    "        self.regularization = l2_regularization(self.alpha)\n",
    "        \n",
    "    def _init_weight(self):\n",
    "        n_samples,n_features = self.X.shape\n",
    "        self.W = np.zeros((n_features))\n",
    "    \n",
    "    def _add_constant(self):\n",
    "        self.X = np.insert(self.X,0,1,axis=1) \n",
    "       \n",
    "    def fit(self,X,Y):\n",
    "        self.X = X\n",
    "        self.Y = Y\n",
    "        # adding constant\n",
    "        self._add_constant()\n",
    "        # initialize Weights vector\n",
    "        self._init_weight()\n",
    "        #iterate until max_iter\n",
    "        for _ in range(self.max_iter):\n",
    "            y_pred = self.X.dot(self.W)\n",
    "            derivative_of_cost= -(self.Y - y_pred).dot(self.X) + self.regularization.grad(self.W)\n",
    "            self.W -=self.learning_rate*derivative_of_cost\n",
    "        return self.W"
   ]
  }
 ],
 "metadata": {
  "kernelspec": {
   "display_name": "Python 3",
   "language": "python",
   "name": "python3"
  },
  "language_info": {
   "codemirror_mode": {
    "name": "ipython",
    "version": 3
   },
   "file_extension": ".py",
   "mimetype": "text/x-python",
   "name": "python",
   "nbconvert_exporter": "python",
   "pygments_lexer": "ipython3",
   "version": "3.8.5"
  }
 },
 "nbformat": 4,
 "nbformat_minor": 4
}
